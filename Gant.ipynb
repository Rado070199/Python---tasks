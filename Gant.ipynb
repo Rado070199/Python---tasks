{
 "cells": [
  {
   "cell_type": "code",
   "execution_count": 4,
   "metadata": {},
   "outputs": [
    {
     "name": "stdout",
     "output_type": "stream",
     "text": [
      "optymalna sekwencja [np.int32(11), np.int32(15), np.int32(4), np.int32(16), np.int32(3), np.int32(9), np.int32(7), np.int32(0), np.int32(8), np.int32(13), np.int32(1), np.int32(12), np.int32(6), np.int32(19), np.int32(10), np.int32(17), np.int32(5), np.int32(2), np.int32(18), np.int32(14)]\n",
      "optymalna wartość: 2062.000000\n",
      "średnie opóźnienie: 103.100000\n",
      "liczba opóźnionych: 15\n",
      "czas wykonania: 26.50299644470215\n"
     ]
    }
   ],
   "source": [
    "# -*- coding: utf-8 -*-\n",
    "'''\n",
    "==============================================================\n",
    "Rozwiązywanie problemu opóźnienia całkowitego ważonego w systemie jednego stanowiska. \n",
    "Funkcja celu polega na minimalizacji całkowitego ważonego opóźnienia.\n",
    "==============================================================\n",
    "'''\n",
    "# importowanie wymaganych modułów\n",
    "import pandas as pd\n",
    "import numpy as np\n",
    "import time\n",
    "import copy\n",
    "\n",
    "\n",
    "''' ================= ustawienia inicjalizacyjne ======================'''\n",
    "num_job = 20  # liczba zadań\n",
    "\n",
    "p = [10, 10, 13, 4, 9, 4, 8, 15, 7, 1, 9, 3, 15, 9, 11, 6, 5, 14, 18, 3]\n",
    "d = [50, 38, 49, 12, 20, 105, 73, 45, 6, 64, 15, 6, 92, 43, 78, 21, 15, 50, 150, 99]\n",
    "w = [10, 5, 1, 5, 10, 1, 5, 10, 5, 1, 5, 10, 10, 5, 1, 10, 5, 5, 1, 5]\n",
    "# wprowadzenie danych\n",
    "population_size = int(input('Proszę podać rozmiar populacji: ') or 30)  # domyślna wartość to 30\n",
    "crossover_rate = float(input('Proszę podać współczynnik krzyżowania: ') or 0.8)  # domyślna wartość to 0.8\n",
    "mutation_rate = float(input('Proszę podać współczynnik mutacji: ') or 0.1)  # domyślna wartość to 0.1\n",
    "mutation_selection_rate = float(input('Proszę podać współczynnik wyboru do mutacji: ') or 0.5)\n",
    "num_mutation_jobs = round(num_job * mutation_selection_rate)\n",
    "num_iteration = int(input('Proszę podać liczbę iteracji: ') or 2000)  # domyślna wartość to 2000\n",
    "\n",
    "start_time = time.time()\n",
    "\n",
    "'''==================== główny kod ==============================='''\n",
    "'''----- generowanie początkowej populacji -----'''\n",
    "Tbest = 999999999999999\n",
    "best_list, best_obj = [], []\n",
    "population_list = []\n",
    "for i in range(population_size):\n",
    "    random_num = list(np.random.permutation(num_job))  # generowanie losowej permutacji od 0 do num_job-1\n",
    "    population_list.append(random_num)  # dodanie do listy populacji\n",
    "        \n",
    "for n in range(num_iteration):\n",
    "    Tbest_now = 99999999999           \n",
    "    '''-------- krzyżowanie --------'''\n",
    "    parent_list = copy.deepcopy(population_list)\n",
    "    offspring_list = copy.deepcopy(population_list)\n",
    "    S = list(np.random.permutation(population_size))  # generowanie losowej sekwencji do wyboru chromosomów rodziców do krzyżowania\n",
    "    \n",
    "    for m in range(int(population_size / 2)):\n",
    "        crossover_prob = np.random.rand()\n",
    "        if crossover_rate >= crossover_prob:\n",
    "            parent_1 = population_list[S[2 * m]][:]\n",
    "            parent_2 = population_list[S[2 * m + 1]][:]\n",
    "            child_1 = ['na' for i in range(num_job)]\n",
    "            child_2 = ['na' for i in range(num_job)]\n",
    "            fix_num = round(num_job / 2)\n",
    "            g_fix = list(np.random.choice(num_job, fix_num, replace=False))\n",
    "            \n",
    "            for g in range(fix_num):\n",
    "                child_1[g_fix[g]] = parent_2[g_fix[g]]\n",
    "                child_2[g_fix[g]] = parent_1[g_fix[g]]\n",
    "            c1 = [parent_1[i] for i in range(num_job) if parent_1[i] not in child_1]\n",
    "            c2 = [parent_2[i] for i in range(num_job) if parent_2[i] not in child_2]\n",
    "            \n",
    "            for i in range(num_job - fix_num):\n",
    "                child_1[child_1.index('na')] = c1[i]\n",
    "                child_2[child_2.index('na')] = c2[i]\n",
    "            offspring_list[S[2 * m]] = child_1[:]\n",
    "            offspring_list[S[2 * m + 1]] = child_2[:]\n",
    "        \n",
    "    '''--------mutacja--------'''   \n",
    "    for m in range(len(offspring_list)):\n",
    "        mutation_prob = np.random.rand()\n",
    "        if mutation_rate >= mutation_prob:\n",
    "            m_chg = list(np.random.choice(num_job, num_mutation_jobs, replace=False))  # wybór pozycji do mutacji\n",
    "            t_value_last = offspring_list[m][m_chg[0]]  # zapisanie wartości na pierwszej pozycji do mutacji\n",
    "            for i in range(num_mutation_jobs - 1):\n",
    "                offspring_list[m][m_chg[i]] = offspring_list[m][m_chg[i + 1]]  # przesunięcie wartości\n",
    "            \n",
    "            offspring_list[m][m_chg[num_mutation_jobs - 1]] = t_value_last  # przeniesienie wartości pierwszej pozycji do ostatniej pozycji mutacji\n",
    "    \n",
    "    '''--------wartość dopasowania (obliczanie opóźnienia)-------------'''\n",
    "    total_chromosome = copy.deepcopy(parent_list) + copy.deepcopy(offspring_list)  # kombinacja chromosomów rodziców i potomków\n",
    "    chrom_fitness, chrom_fit = [], []\n",
    "    total_fitness = 0\n",
    "    for i in range(population_size * 2):\n",
    "        ptime = 0\n",
    "        tardiness = 0\n",
    "        for j in range(num_job):\n",
    "            ptime = ptime + p[total_chromosome[i][j]]\n",
    "            tardiness = tardiness + w[total_chromosome[i][j]] * max(ptime - d[total_chromosome[i][j]], 0)\n",
    "        chrom_fitness.append(1 / tardiness)\n",
    "        chrom_fit.append(tardiness)\n",
    "        total_fitness = total_fitness + chrom_fitness[i]\n",
    "    \n",
    "    '''----------selekcja----------'''\n",
    "    pk, qk = [], []\n",
    "    \n",
    "    for i in range(population_size * 2):\n",
    "        pk.append(chrom_fitness[i] / total_fitness)\n",
    "    for i in range(population_size * 2):\n",
    "        cumulative = 0\n",
    "        for j in range(0, i + 1):\n",
    "            cumulative = cumulative + pk[j]\n",
    "        qk.append(cumulative)\n",
    "    \n",
    "    selection_rand = [np.random.rand() for i in range(population_size)]\n",
    "    \n",
    "    for i in range(population_size):\n",
    "        if selection_rand[i] <= qk[0]:\n",
    "            population_list[i] = copy.deepcopy(total_chromosome[0])\n",
    "        else:\n",
    "            for j in range(0, population_size * 2 - 1):\n",
    "                if selection_rand[i] > qk[j] and selection_rand[i] <= qk[j + 1]:\n",
    "                    population_list[i] = copy.deepcopy(total_chromosome[j + 1])\n",
    "                    break\n",
    "    '''----------porównanie----------'''\n",
    "    for i in range(population_size * 2):\n",
    "        if chrom_fit[i] < Tbest_now:\n",
    "            Tbest_now = chrom_fit[i]\n",
    "            sequence_now = copy.deepcopy(total_chromosome[i])\n",
    "    \n",
    "    if Tbest_now <= Tbest:\n",
    "        Tbest = Tbest_now\n",
    "        sequence_best = copy.deepcopy(sequence_now)\n",
    "    \n",
    "    job_sequence_ptime = 0\n",
    "    num_tardy = 0\n",
    "    for k in range(num_job):\n",
    "        job_sequence_ptime = job_sequence_ptime + p[sequence_best[k]]\n",
    "        if job_sequence_ptime > d[sequence_best[k]]:\n",
    "            num_tardy = num_tardy + 1\n",
    "'''----------wyniki----------'''\n",
    "print(\"optymalna sekwencja\", sequence_best)\n",
    "print(\"optymalna wartość: %f\" % Tbest)\n",
    "print(\"średnie opóźnienie: %f\" % (Tbest / num_job))\n",
    "print(\"liczba opóźnionych: %d\" % num_tardy)\n",
    "print('czas wykonania: %s' % (time.time() - start_time))\n"
   ]
  },
  {
   "cell_type": "code",
   "execution_count": 5,
   "metadata": {},
   "outputs": [
    {
     "data": {
      "application/vnd.plotly.v1+json": {
       "config": {
        "linkText": "Export to plot.ly",
        "plotlyServerURL": "https://plot.ly",
        "showLink": false
       },
       "data": [
        {
         "fill": "toself",
         "fillcolor": "rgb(0, 0, 205)",
         "hoverinfo": "name",
         "legendgroup": "rgb(0, 0, 205)",
         "mode": "none",
         "name": "Job 12",
         "showlegend": true,
         "type": "scatter",
         "x": [
          "2018-07-14 0:00:00",
          "2018-07-14 0:00:03",
          "2018-07-14 0:00:03",
          "2018-07-14 0:00:00"
         ],
         "y": [
          -0.2,
          -0.2,
          0.2,
          0.2
         ]
        },
        {
         "fill": "toself",
         "fillcolor": "rgb(0, 139, 0)",
         "hoverinfo": "name",
         "legendgroup": "rgb(0, 139, 0)",
         "mode": "none",
         "name": "Job 1",
         "showlegend": true,
         "type": "scatter",
         "x": [
          "2018-07-14 0:00:43",
          "2018-07-14 0:00:53",
          "2018-07-14 0:00:53",
          "2018-07-14 0:00:43"
         ],
         "y": [
          -0.2,
          -0.2,
          0.2,
          0.2
         ]
        },
        {
         "fill": "toself",
         "fillcolor": "rgb(0, 139, 139)",
         "hoverinfo": "name",
         "legendgroup": "rgb(0, 139, 139)",
         "mode": "none",
         "name": "Job 17",
         "showlegend": true,
         "type": "scatter",
         "x": [
          "2018-07-14 0:00:18",
          "2018-07-14 0:00:23",
          "2018-07-14 0:00:23",
          "2018-07-14 0:00:18"
         ],
         "y": [
          -0.2,
          -0.2,
          0.2,
          0.2
         ]
        },
        {
         "fill": "toself",
         "fillcolor": "rgb(0, 250, 154)",
         "hoverinfo": "name",
         "legendgroup": "rgb(0, 250, 154)",
         "mode": "none",
         "name": "Job 8",
         "showlegend": true,
         "type": "scatter",
         "x": [
          "2018-07-14 0:00:28",
          "2018-07-14 0:00:43",
          "2018-07-14 0:00:43",
          "2018-07-14 0:00:28"
         ],
         "y": [
          -0.2,
          -0.2,
          0.2,
          0.2
         ]
        },
        {
         "fill": "toself",
         "fillcolor": "rgb(100, 149, 237)",
         "hoverinfo": "name",
         "legendgroup": "rgb(100, 149, 237)",
         "mode": "none",
         "name": "Job 16",
         "showlegend": true,
         "type": "scatter",
         "x": [
          "2018-07-14 0:00:03",
          "2018-07-14 0:00:09",
          "2018-07-14 0:00:09",
          "2018-07-14 0:00:03"
         ],
         "y": [
          -0.2,
          -0.2,
          0.2,
          0.2
         ]
        },
        {
         "fill": "toself",
         "fillcolor": "rgb(118, 238, 0)",
         "hoverinfo": "name",
         "legendgroup": "rgb(118, 238, 0)",
         "mode": "none",
         "name": "Job 15",
         "showlegend": true,
         "type": "scatter",
         "x": [
          "2018-07-14 0:02:43",
          "2018-07-14 0:02:54",
          "2018-07-14 0:02:54",
          "2018-07-14 0:02:43"
         ],
         "y": [
          -0.2,
          -0.2,
          0.2,
          0.2
         ]
        },
        {
         "fill": "toself",
         "fillcolor": "rgb(122, 197, 205)",
         "hoverinfo": "name",
         "legendgroup": "rgb(122, 197, 205)",
         "mode": "none",
         "name": "Job 13",
         "showlegend": true,
         "type": "scatter",
         "x": [
          "2018-07-14 0:01:19",
          "2018-07-14 0:01:34",
          "2018-07-14 0:01:34",
          "2018-07-14 0:01:19"
         ],
         "y": [
          -0.2,
          -0.2,
          0.2,
          0.2
         ]
        },
        {
         "fill": "toself",
         "fillcolor": "rgb(143, 188, 143)",
         "hoverinfo": "name",
         "legendgroup": "rgb(143, 188, 143)",
         "mode": "none",
         "name": "Job 20",
         "showlegend": true,
         "type": "scatter",
         "x": [
          "2018-07-14 0:01:42",
          "2018-07-14 0:01:45",
          "2018-07-14 0:01:45",
          "2018-07-14 0:01:42"
         ],
         "y": [
          -0.2,
          -0.2,
          0.2,
          0.2
         ]
        },
        {
         "fill": "toself",
         "fillcolor": "rgb(154, 192, 205)",
         "hoverinfo": "name",
         "legendgroup": "rgb(154, 192, 205)",
         "mode": "none",
         "name": "Job 6",
         "showlegend": true,
         "type": "scatter",
         "x": [
          "2018-07-14 0:02:08",
          "2018-07-14 0:02:12",
          "2018-07-14 0:02:12",
          "2018-07-14 0:02:08"
         ],
         "y": [
          -0.2,
          -0.2,
          0.2,
          0.2
         ]
        },
        {
         "fill": "toself",
         "fillcolor": "rgb(154, 50, 205)",
         "hoverinfo": "name",
         "legendgroup": "rgb(154, 50, 205)",
         "mode": "none",
         "name": "Job 2",
         "showlegend": true,
         "type": "scatter",
         "x": [
          "2018-07-14 0:01:09",
          "2018-07-14 0:01:19",
          "2018-07-14 0:01:19",
          "2018-07-14 0:01:09"
         ],
         "y": [
          -0.2,
          -0.2,
          0.2,
          0.2
         ]
        },
        {
         "fill": "toself",
         "fillcolor": "rgb(162, 205, 90)",
         "hoverinfo": "name",
         "legendgroup": "rgb(162, 205, 90)",
         "mode": "none",
         "name": "Job 19",
         "showlegend": true,
         "type": "scatter",
         "x": [
          "2018-07-14 0:02:25",
          "2018-07-14 0:02:43",
          "2018-07-14 0:02:43",
          "2018-07-14 0:02:25"
         ],
         "y": [
          -0.2,
          -0.2,
          0.2,
          0.2
         ]
        },
        {
         "fill": "toself",
         "fillcolor": "rgb(169, 169, 169)",
         "hoverinfo": "name",
         "legendgroup": "rgb(169, 169, 169)",
         "mode": "none",
         "name": "Job 18",
         "showlegend": true,
         "type": "scatter",
         "x": [
          "2018-07-14 0:01:54",
          "2018-07-14 0:02:08",
          "2018-07-14 0:02:08",
          "2018-07-14 0:01:54"
         ],
         "y": [
          -0.2,
          -0.2,
          0.2,
          0.2
         ]
        },
        {
         "fill": "toself",
         "fillcolor": "rgb(205, 179, 139)",
         "hoverinfo": "name",
         "legendgroup": "rgb(205, 179, 139)",
         "mode": "none",
         "name": "Job 9",
         "showlegend": true,
         "type": "scatter",
         "x": [
          "2018-07-14 0:00:53",
          "2018-07-14 0:01:00",
          "2018-07-14 0:01:00",
          "2018-07-14 0:00:53"
         ],
         "y": [
          -0.2,
          -0.2,
          0.2,
          0.2
         ]
        },
        {
         "fill": "toself",
         "fillcolor": "rgb(205, 193, 197)",
         "hoverinfo": "name",
         "legendgroup": "rgb(205, 193, 197)",
         "mode": "none",
         "name": "Job 5",
         "showlegend": true,
         "type": "scatter",
         "x": [
          "2018-07-14 0:00:09",
          "2018-07-14 0:00:18",
          "2018-07-14 0:00:18",
          "2018-07-14 0:00:09"
         ],
         "y": [
          -0.2,
          -0.2,
          0.2,
          0.2
         ]
        },
        {
         "fill": "toself",
         "fillcolor": "rgb(227, 207, 87)",
         "hoverinfo": "name",
         "legendgroup": "rgb(227, 207, 87)",
         "mode": "none",
         "name": "Job 11",
         "showlegend": true,
         "type": "scatter",
         "x": [
          "2018-07-14 0:01:45",
          "2018-07-14 0:01:54",
          "2018-07-14 0:01:54",
          "2018-07-14 0:01:45"
         ],
         "y": [
          -0.2,
          -0.2,
          0.2,
          0.2
         ]
        },
        {
         "fill": "toself",
         "fillcolor": "rgb(237, 145, 33)",
         "hoverinfo": "name",
         "legendgroup": "rgb(237, 145, 33)",
         "mode": "none",
         "name": "Job 14",
         "showlegend": true,
         "type": "scatter",
         "x": [
          "2018-07-14 0:01:00",
          "2018-07-14 0:01:09",
          "2018-07-14 0:01:09",
          "2018-07-14 0:01:00"
         ],
         "y": [
          -0.2,
          -0.2,
          0.2,
          0.2
         ]
        },
        {
         "fill": "toself",
         "fillcolor": "rgb(238, 162, 173)",
         "hoverinfo": "name",
         "legendgroup": "rgb(238, 162, 173)",
         "mode": "none",
         "name": "Job 7",
         "showlegend": true,
         "type": "scatter",
         "x": [
          "2018-07-14 0:01:34",
          "2018-07-14 0:01:42",
          "2018-07-14 0:01:42",
          "2018-07-14 0:01:34"
         ],
         "y": [
          -0.2,
          -0.2,
          0.2,
          0.2
         ]
        },
        {
         "fill": "toself",
         "fillcolor": "rgb(238, 201, 0)",
         "hoverinfo": "name",
         "legendgroup": "rgb(238, 201, 0)",
         "mode": "none",
         "name": "Job 3",
         "showlegend": true,
         "type": "scatter",
         "x": [
          "2018-07-14 0:02:12",
          "2018-07-14 0:02:25",
          "2018-07-14 0:02:25",
          "2018-07-14 0:02:12"
         ],
         "y": [
          -0.2,
          -0.2,
          0.2,
          0.2
         ]
        },
        {
         "fill": "toself",
         "fillcolor": "rgb(238, 230, 133)",
         "hoverinfo": "name",
         "legendgroup": "rgb(238, 230, 133)",
         "mode": "none",
         "name": "Job 4",
         "showlegend": true,
         "type": "scatter",
         "x": [
          "2018-07-14 0:00:23",
          "2018-07-14 0:00:27",
          "2018-07-14 0:00:27",
          "2018-07-14 0:00:23"
         ],
         "y": [
          -0.2,
          -0.2,
          0.2,
          0.2
         ]
        },
        {
         "fill": "toself",
         "fillcolor": "rgb(255, 140, 0)",
         "hoverinfo": "name",
         "legendgroup": "rgb(255, 140, 0)",
         "mode": "none",
         "name": "Job 10",
         "showlegend": true,
         "type": "scatter",
         "x": [
          "2018-07-14 0:00:27",
          "2018-07-14 0:00:28",
          "2018-07-14 0:00:28",
          "2018-07-14 0:00:27"
         ],
         "y": [
          -0.2,
          -0.2,
          0.2,
          0.2
         ]
        },
        {
         "legendgroup": "rgb(0, 0, 205)",
         "marker": {
          "color": "rgb(0, 0, 205)",
          "opacity": 0,
          "size": 1
         },
         "mode": "markers",
         "name": "",
         "showlegend": false,
         "text": [
          null,
          null
         ],
         "type": "scatter",
         "x": [
          "2018-07-14 0:00:00",
          "2018-07-14 0:00:03"
         ],
         "y": [
          0,
          0
         ]
        },
        {
         "legendgroup": "rgb(0, 139, 0)",
         "marker": {
          "color": "rgb(0, 139, 0)",
          "opacity": 0,
          "size": 1
         },
         "mode": "markers",
         "name": "",
         "showlegend": false,
         "text": [
          null,
          null
         ],
         "type": "scatter",
         "x": [
          "2018-07-14 0:00:43",
          "2018-07-14 0:00:53"
         ],
         "y": [
          0,
          0
         ]
        },
        {
         "legendgroup": "rgb(0, 139, 139)",
         "marker": {
          "color": "rgb(0, 139, 139)",
          "opacity": 0,
          "size": 1
         },
         "mode": "markers",
         "name": "",
         "showlegend": false,
         "text": [
          null,
          null
         ],
         "type": "scatter",
         "x": [
          "2018-07-14 0:00:18",
          "2018-07-14 0:00:23"
         ],
         "y": [
          0,
          0
         ]
        },
        {
         "legendgroup": "rgb(0, 250, 154)",
         "marker": {
          "color": "rgb(0, 250, 154)",
          "opacity": 0,
          "size": 1
         },
         "mode": "markers",
         "name": "",
         "showlegend": false,
         "text": [
          null,
          null
         ],
         "type": "scatter",
         "x": [
          "2018-07-14 0:00:28",
          "2018-07-14 0:00:43"
         ],
         "y": [
          0,
          0
         ]
        },
        {
         "legendgroup": "rgb(100, 149, 237)",
         "marker": {
          "color": "rgb(100, 149, 237)",
          "opacity": 0,
          "size": 1
         },
         "mode": "markers",
         "name": "",
         "showlegend": false,
         "text": [
          null,
          null
         ],
         "type": "scatter",
         "x": [
          "2018-07-14 0:00:03",
          "2018-07-14 0:00:09"
         ],
         "y": [
          0,
          0
         ]
        },
        {
         "legendgroup": "rgb(118, 238, 0)",
         "marker": {
          "color": "rgb(118, 238, 0)",
          "opacity": 0,
          "size": 1
         },
         "mode": "markers",
         "name": "",
         "showlegend": false,
         "text": [
          null,
          null
         ],
         "type": "scatter",
         "x": [
          "2018-07-14 0:02:43",
          "2018-07-14 0:02:54"
         ],
         "y": [
          0,
          0
         ]
        },
        {
         "legendgroup": "rgb(122, 197, 205)",
         "marker": {
          "color": "rgb(122, 197, 205)",
          "opacity": 0,
          "size": 1
         },
         "mode": "markers",
         "name": "",
         "showlegend": false,
         "text": [
          null,
          null
         ],
         "type": "scatter",
         "x": [
          "2018-07-14 0:01:19",
          "2018-07-14 0:01:34"
         ],
         "y": [
          0,
          0
         ]
        },
        {
         "legendgroup": "rgb(143, 188, 143)",
         "marker": {
          "color": "rgb(143, 188, 143)",
          "opacity": 0,
          "size": 1
         },
         "mode": "markers",
         "name": "",
         "showlegend": false,
         "text": [
          null,
          null
         ],
         "type": "scatter",
         "x": [
          "2018-07-14 0:01:42",
          "2018-07-14 0:01:45"
         ],
         "y": [
          0,
          0
         ]
        },
        {
         "legendgroup": "rgb(154, 192, 205)",
         "marker": {
          "color": "rgb(154, 192, 205)",
          "opacity": 0,
          "size": 1
         },
         "mode": "markers",
         "name": "",
         "showlegend": false,
         "text": [
          null,
          null
         ],
         "type": "scatter",
         "x": [
          "2018-07-14 0:02:08",
          "2018-07-14 0:02:12"
         ],
         "y": [
          0,
          0
         ]
        },
        {
         "legendgroup": "rgb(154, 50, 205)",
         "marker": {
          "color": "rgb(154, 50, 205)",
          "opacity": 0,
          "size": 1
         },
         "mode": "markers",
         "name": "",
         "showlegend": false,
         "text": [
          null,
          null
         ],
         "type": "scatter",
         "x": [
          "2018-07-14 0:01:09",
          "2018-07-14 0:01:19"
         ],
         "y": [
          0,
          0
         ]
        },
        {
         "legendgroup": "rgb(162, 205, 90)",
         "marker": {
          "color": "rgb(162, 205, 90)",
          "opacity": 0,
          "size": 1
         },
         "mode": "markers",
         "name": "",
         "showlegend": false,
         "text": [
          null,
          null
         ],
         "type": "scatter",
         "x": [
          "2018-07-14 0:02:25",
          "2018-07-14 0:02:43"
         ],
         "y": [
          0,
          0
         ]
        },
        {
         "legendgroup": "rgb(169, 169, 169)",
         "marker": {
          "color": "rgb(169, 169, 169)",
          "opacity": 0,
          "size": 1
         },
         "mode": "markers",
         "name": "",
         "showlegend": false,
         "text": [
          null,
          null
         ],
         "type": "scatter",
         "x": [
          "2018-07-14 0:01:54",
          "2018-07-14 0:02:08"
         ],
         "y": [
          0,
          0
         ]
        },
        {
         "legendgroup": "rgb(205, 179, 139)",
         "marker": {
          "color": "rgb(205, 179, 139)",
          "opacity": 0,
          "size": 1
         },
         "mode": "markers",
         "name": "",
         "showlegend": false,
         "text": [
          null,
          null
         ],
         "type": "scatter",
         "x": [
          "2018-07-14 0:00:53",
          "2018-07-14 0:01:00"
         ],
         "y": [
          0,
          0
         ]
        },
        {
         "legendgroup": "rgb(205, 193, 197)",
         "marker": {
          "color": "rgb(205, 193, 197)",
          "opacity": 0,
          "size": 1
         },
         "mode": "markers",
         "name": "",
         "showlegend": false,
         "text": [
          null,
          null
         ],
         "type": "scatter",
         "x": [
          "2018-07-14 0:00:09",
          "2018-07-14 0:00:18"
         ],
         "y": [
          0,
          0
         ]
        },
        {
         "legendgroup": "rgb(227, 207, 87)",
         "marker": {
          "color": "rgb(227, 207, 87)",
          "opacity": 0,
          "size": 1
         },
         "mode": "markers",
         "name": "",
         "showlegend": false,
         "text": [
          null,
          null
         ],
         "type": "scatter",
         "x": [
          "2018-07-14 0:01:45",
          "2018-07-14 0:01:54"
         ],
         "y": [
          0,
          0
         ]
        },
        {
         "legendgroup": "rgb(237, 145, 33)",
         "marker": {
          "color": "rgb(237, 145, 33)",
          "opacity": 0,
          "size": 1
         },
         "mode": "markers",
         "name": "",
         "showlegend": false,
         "text": [
          null,
          null
         ],
         "type": "scatter",
         "x": [
          "2018-07-14 0:01:00",
          "2018-07-14 0:01:09"
         ],
         "y": [
          0,
          0
         ]
        },
        {
         "legendgroup": "rgb(238, 162, 173)",
         "marker": {
          "color": "rgb(238, 162, 173)",
          "opacity": 0,
          "size": 1
         },
         "mode": "markers",
         "name": "",
         "showlegend": false,
         "text": [
          null,
          null
         ],
         "type": "scatter",
         "x": [
          "2018-07-14 0:01:34",
          "2018-07-14 0:01:42"
         ],
         "y": [
          0,
          0
         ]
        },
        {
         "legendgroup": "rgb(238, 201, 0)",
         "marker": {
          "color": "rgb(238, 201, 0)",
          "opacity": 0,
          "size": 1
         },
         "mode": "markers",
         "name": "",
         "showlegend": false,
         "text": [
          null,
          null
         ],
         "type": "scatter",
         "x": [
          "2018-07-14 0:02:12",
          "2018-07-14 0:02:25"
         ],
         "y": [
          0,
          0
         ]
        },
        {
         "legendgroup": "rgb(238, 230, 133)",
         "marker": {
          "color": "rgb(238, 230, 133)",
          "opacity": 0,
          "size": 1
         },
         "mode": "markers",
         "name": "",
         "showlegend": false,
         "text": [
          null,
          null
         ],
         "type": "scatter",
         "x": [
          "2018-07-14 0:00:23",
          "2018-07-14 0:00:27"
         ],
         "y": [
          0,
          0
         ]
        },
        {
         "legendgroup": "rgb(255, 140, 0)",
         "marker": {
          "color": "rgb(255, 140, 0)",
          "opacity": 0,
          "size": 1
         },
         "mode": "markers",
         "name": "",
         "showlegend": false,
         "text": [
          null,
          null
         ],
         "type": "scatter",
         "x": [
          "2018-07-14 0:00:27",
          "2018-07-14 0:00:28"
         ],
         "y": [
          0,
          0
         ]
        }
       ],
       "layout": {
        "height": 600,
        "hovermode": "closest",
        "showlegend": true,
        "template": {
         "data": {
          "bar": [
           {
            "error_x": {
             "color": "#2a3f5f"
            },
            "error_y": {
             "color": "#2a3f5f"
            },
            "marker": {
             "line": {
              "color": "#E5ECF6",
              "width": 0.5
             },
             "pattern": {
              "fillmode": "overlay",
              "size": 10,
              "solidity": 0.2
             }
            },
            "type": "bar"
           }
          ],
          "barpolar": [
           {
            "marker": {
             "line": {
              "color": "#E5ECF6",
              "width": 0.5
             },
             "pattern": {
              "fillmode": "overlay",
              "size": 10,
              "solidity": 0.2
             }
            },
            "type": "barpolar"
           }
          ],
          "carpet": [
           {
            "aaxis": {
             "endlinecolor": "#2a3f5f",
             "gridcolor": "white",
             "linecolor": "white",
             "minorgridcolor": "white",
             "startlinecolor": "#2a3f5f"
            },
            "baxis": {
             "endlinecolor": "#2a3f5f",
             "gridcolor": "white",
             "linecolor": "white",
             "minorgridcolor": "white",
             "startlinecolor": "#2a3f5f"
            },
            "type": "carpet"
           }
          ],
          "choropleth": [
           {
            "colorbar": {
             "outlinewidth": 0,
             "ticks": ""
            },
            "type": "choropleth"
           }
          ],
          "contour": [
           {
            "colorbar": {
             "outlinewidth": 0,
             "ticks": ""
            },
            "colorscale": [
             [
              0,
              "#0d0887"
             ],
             [
              0.1111111111111111,
              "#46039f"
             ],
             [
              0.2222222222222222,
              "#7201a8"
             ],
             [
              0.3333333333333333,
              "#9c179e"
             ],
             [
              0.4444444444444444,
              "#bd3786"
             ],
             [
              0.5555555555555556,
              "#d8576b"
             ],
             [
              0.6666666666666666,
              "#ed7953"
             ],
             [
              0.7777777777777778,
              "#fb9f3a"
             ],
             [
              0.8888888888888888,
              "#fdca26"
             ],
             [
              1,
              "#f0f921"
             ]
            ],
            "type": "contour"
           }
          ],
          "contourcarpet": [
           {
            "colorbar": {
             "outlinewidth": 0,
             "ticks": ""
            },
            "type": "contourcarpet"
           }
          ],
          "heatmap": [
           {
            "colorbar": {
             "outlinewidth": 0,
             "ticks": ""
            },
            "colorscale": [
             [
              0,
              "#0d0887"
             ],
             [
              0.1111111111111111,
              "#46039f"
             ],
             [
              0.2222222222222222,
              "#7201a8"
             ],
             [
              0.3333333333333333,
              "#9c179e"
             ],
             [
              0.4444444444444444,
              "#bd3786"
             ],
             [
              0.5555555555555556,
              "#d8576b"
             ],
             [
              0.6666666666666666,
              "#ed7953"
             ],
             [
              0.7777777777777778,
              "#fb9f3a"
             ],
             [
              0.8888888888888888,
              "#fdca26"
             ],
             [
              1,
              "#f0f921"
             ]
            ],
            "type": "heatmap"
           }
          ],
          "heatmapgl": [
           {
            "colorbar": {
             "outlinewidth": 0,
             "ticks": ""
            },
            "colorscale": [
             [
              0,
              "#0d0887"
             ],
             [
              0.1111111111111111,
              "#46039f"
             ],
             [
              0.2222222222222222,
              "#7201a8"
             ],
             [
              0.3333333333333333,
              "#9c179e"
             ],
             [
              0.4444444444444444,
              "#bd3786"
             ],
             [
              0.5555555555555556,
              "#d8576b"
             ],
             [
              0.6666666666666666,
              "#ed7953"
             ],
             [
              0.7777777777777778,
              "#fb9f3a"
             ],
             [
              0.8888888888888888,
              "#fdca26"
             ],
             [
              1,
              "#f0f921"
             ]
            ],
            "type": "heatmapgl"
           }
          ],
          "histogram": [
           {
            "marker": {
             "pattern": {
              "fillmode": "overlay",
              "size": 10,
              "solidity": 0.2
             }
            },
            "type": "histogram"
           }
          ],
          "histogram2d": [
           {
            "colorbar": {
             "outlinewidth": 0,
             "ticks": ""
            },
            "colorscale": [
             [
              0,
              "#0d0887"
             ],
             [
              0.1111111111111111,
              "#46039f"
             ],
             [
              0.2222222222222222,
              "#7201a8"
             ],
             [
              0.3333333333333333,
              "#9c179e"
             ],
             [
              0.4444444444444444,
              "#bd3786"
             ],
             [
              0.5555555555555556,
              "#d8576b"
             ],
             [
              0.6666666666666666,
              "#ed7953"
             ],
             [
              0.7777777777777778,
              "#fb9f3a"
             ],
             [
              0.8888888888888888,
              "#fdca26"
             ],
             [
              1,
              "#f0f921"
             ]
            ],
            "type": "histogram2d"
           }
          ],
          "histogram2dcontour": [
           {
            "colorbar": {
             "outlinewidth": 0,
             "ticks": ""
            },
            "colorscale": [
             [
              0,
              "#0d0887"
             ],
             [
              0.1111111111111111,
              "#46039f"
             ],
             [
              0.2222222222222222,
              "#7201a8"
             ],
             [
              0.3333333333333333,
              "#9c179e"
             ],
             [
              0.4444444444444444,
              "#bd3786"
             ],
             [
              0.5555555555555556,
              "#d8576b"
             ],
             [
              0.6666666666666666,
              "#ed7953"
             ],
             [
              0.7777777777777778,
              "#fb9f3a"
             ],
             [
              0.8888888888888888,
              "#fdca26"
             ],
             [
              1,
              "#f0f921"
             ]
            ],
            "type": "histogram2dcontour"
           }
          ],
          "mesh3d": [
           {
            "colorbar": {
             "outlinewidth": 0,
             "ticks": ""
            },
            "type": "mesh3d"
           }
          ],
          "parcoords": [
           {
            "line": {
             "colorbar": {
              "outlinewidth": 0,
              "ticks": ""
             }
            },
            "type": "parcoords"
           }
          ],
          "pie": [
           {
            "automargin": true,
            "type": "pie"
           }
          ],
          "scatter": [
           {
            "fillpattern": {
             "fillmode": "overlay",
             "size": 10,
             "solidity": 0.2
            },
            "type": "scatter"
           }
          ],
          "scatter3d": [
           {
            "line": {
             "colorbar": {
              "outlinewidth": 0,
              "ticks": ""
             }
            },
            "marker": {
             "colorbar": {
              "outlinewidth": 0,
              "ticks": ""
             }
            },
            "type": "scatter3d"
           }
          ],
          "scattercarpet": [
           {
            "marker": {
             "colorbar": {
              "outlinewidth": 0,
              "ticks": ""
             }
            },
            "type": "scattercarpet"
           }
          ],
          "scattergeo": [
           {
            "marker": {
             "colorbar": {
              "outlinewidth": 0,
              "ticks": ""
             }
            },
            "type": "scattergeo"
           }
          ],
          "scattergl": [
           {
            "marker": {
             "colorbar": {
              "outlinewidth": 0,
              "ticks": ""
             }
            },
            "type": "scattergl"
           }
          ],
          "scattermapbox": [
           {
            "marker": {
             "colorbar": {
              "outlinewidth": 0,
              "ticks": ""
             }
            },
            "type": "scattermapbox"
           }
          ],
          "scatterpolar": [
           {
            "marker": {
             "colorbar": {
              "outlinewidth": 0,
              "ticks": ""
             }
            },
            "type": "scatterpolar"
           }
          ],
          "scatterpolargl": [
           {
            "marker": {
             "colorbar": {
              "outlinewidth": 0,
              "ticks": ""
             }
            },
            "type": "scatterpolargl"
           }
          ],
          "scatterternary": [
           {
            "marker": {
             "colorbar": {
              "outlinewidth": 0,
              "ticks": ""
             }
            },
            "type": "scatterternary"
           }
          ],
          "surface": [
           {
            "colorbar": {
             "outlinewidth": 0,
             "ticks": ""
            },
            "colorscale": [
             [
              0,
              "#0d0887"
             ],
             [
              0.1111111111111111,
              "#46039f"
             ],
             [
              0.2222222222222222,
              "#7201a8"
             ],
             [
              0.3333333333333333,
              "#9c179e"
             ],
             [
              0.4444444444444444,
              "#bd3786"
             ],
             [
              0.5555555555555556,
              "#d8576b"
             ],
             [
              0.6666666666666666,
              "#ed7953"
             ],
             [
              0.7777777777777778,
              "#fb9f3a"
             ],
             [
              0.8888888888888888,
              "#fdca26"
             ],
             [
              1,
              "#f0f921"
             ]
            ],
            "type": "surface"
           }
          ],
          "table": [
           {
            "cells": {
             "fill": {
              "color": "#EBF0F8"
             },
             "line": {
              "color": "white"
             }
            },
            "header": {
             "fill": {
              "color": "#C8D4E3"
             },
             "line": {
              "color": "white"
             }
            },
            "type": "table"
           }
          ]
         },
         "layout": {
          "annotationdefaults": {
           "arrowcolor": "#2a3f5f",
           "arrowhead": 0,
           "arrowwidth": 1
          },
          "autotypenumbers": "strict",
          "coloraxis": {
           "colorbar": {
            "outlinewidth": 0,
            "ticks": ""
           }
          },
          "colorscale": {
           "diverging": [
            [
             0,
             "#8e0152"
            ],
            [
             0.1,
             "#c51b7d"
            ],
            [
             0.2,
             "#de77ae"
            ],
            [
             0.3,
             "#f1b6da"
            ],
            [
             0.4,
             "#fde0ef"
            ],
            [
             0.5,
             "#f7f7f7"
            ],
            [
             0.6,
             "#e6f5d0"
            ],
            [
             0.7,
             "#b8e186"
            ],
            [
             0.8,
             "#7fbc41"
            ],
            [
             0.9,
             "#4d9221"
            ],
            [
             1,
             "#276419"
            ]
           ],
           "sequential": [
            [
             0,
             "#0d0887"
            ],
            [
             0.1111111111111111,
             "#46039f"
            ],
            [
             0.2222222222222222,
             "#7201a8"
            ],
            [
             0.3333333333333333,
             "#9c179e"
            ],
            [
             0.4444444444444444,
             "#bd3786"
            ],
            [
             0.5555555555555556,
             "#d8576b"
            ],
            [
             0.6666666666666666,
             "#ed7953"
            ],
            [
             0.7777777777777778,
             "#fb9f3a"
            ],
            [
             0.8888888888888888,
             "#fdca26"
            ],
            [
             1,
             "#f0f921"
            ]
           ],
           "sequentialminus": [
            [
             0,
             "#0d0887"
            ],
            [
             0.1111111111111111,
             "#46039f"
            ],
            [
             0.2222222222222222,
             "#7201a8"
            ],
            [
             0.3333333333333333,
             "#9c179e"
            ],
            [
             0.4444444444444444,
             "#bd3786"
            ],
            [
             0.5555555555555556,
             "#d8576b"
            ],
            [
             0.6666666666666666,
             "#ed7953"
            ],
            [
             0.7777777777777778,
             "#fb9f3a"
            ],
            [
             0.8888888888888888,
             "#fdca26"
            ],
            [
             1,
             "#f0f921"
            ]
           ]
          },
          "colorway": [
           "#636efa",
           "#EF553B",
           "#00cc96",
           "#ab63fa",
           "#FFA15A",
           "#19d3f3",
           "#FF6692",
           "#B6E880",
           "#FF97FF",
           "#FECB52"
          ],
          "font": {
           "color": "#2a3f5f"
          },
          "geo": {
           "bgcolor": "white",
           "lakecolor": "white",
           "landcolor": "#E5ECF6",
           "showlakes": true,
           "showland": true,
           "subunitcolor": "white"
          },
          "hoverlabel": {
           "align": "left"
          },
          "hovermode": "closest",
          "mapbox": {
           "style": "light"
          },
          "paper_bgcolor": "white",
          "plot_bgcolor": "#E5ECF6",
          "polar": {
           "angularaxis": {
            "gridcolor": "white",
            "linecolor": "white",
            "ticks": ""
           },
           "bgcolor": "#E5ECF6",
           "radialaxis": {
            "gridcolor": "white",
            "linecolor": "white",
            "ticks": ""
           }
          },
          "scene": {
           "xaxis": {
            "backgroundcolor": "#E5ECF6",
            "gridcolor": "white",
            "gridwidth": 2,
            "linecolor": "white",
            "showbackground": true,
            "ticks": "",
            "zerolinecolor": "white"
           },
           "yaxis": {
            "backgroundcolor": "#E5ECF6",
            "gridcolor": "white",
            "gridwidth": 2,
            "linecolor": "white",
            "showbackground": true,
            "ticks": "",
            "zerolinecolor": "white"
           },
           "zaxis": {
            "backgroundcolor": "#E5ECF6",
            "gridcolor": "white",
            "gridwidth": 2,
            "linecolor": "white",
            "showbackground": true,
            "ticks": "",
            "zerolinecolor": "white"
           }
          },
          "shapedefaults": {
           "line": {
            "color": "#2a3f5f"
           }
          },
          "ternary": {
           "aaxis": {
            "gridcolor": "white",
            "linecolor": "white",
            "ticks": ""
           },
           "baxis": {
            "gridcolor": "white",
            "linecolor": "white",
            "ticks": ""
           },
           "bgcolor": "#E5ECF6",
           "caxis": {
            "gridcolor": "white",
            "linecolor": "white",
            "ticks": ""
           }
          },
          "title": {
           "x": 0.05
          },
          "xaxis": {
           "automargin": true,
           "gridcolor": "white",
           "linecolor": "white",
           "ticks": "",
           "title": {
            "standoff": 15
           },
           "zerolinecolor": "white",
           "zerolinewidth": 2
          },
          "yaxis": {
           "automargin": true,
           "gridcolor": "white",
           "linecolor": "white",
           "ticks": "",
           "title": {
            "standoff": 15
           },
           "zerolinecolor": "white",
           "zerolinewidth": 2
          }
         }
        },
        "title": {
         "text": "Gantt Chart"
        },
        "xaxis": {
         "rangeselector": {
          "buttons": [
           {
            "count": 7,
            "label": "1w",
            "step": "day",
            "stepmode": "backward"
           },
           {
            "count": 1,
            "label": "1m",
            "step": "month",
            "stepmode": "backward"
           },
           {
            "count": 6,
            "label": "6m",
            "step": "month",
            "stepmode": "backward"
           },
           {
            "count": 1,
            "label": "YTD",
            "step": "year",
            "stepmode": "todate"
           },
           {
            "count": 1,
            "label": "1y",
            "step": "year",
            "stepmode": "backward"
           },
           {
            "step": "all"
           }
          ]
         },
         "showgrid": true,
         "type": "date",
         "zeroline": false
        },
        "yaxis": {
         "autorange": false,
         "range": [
          -1,
          2
         ],
         "showgrid": false,
         "ticktext": [
          "Machine"
         ],
         "tickvals": [
          0
         ],
         "zeroline": false
        }
       }
      }
     },
     "metadata": {},
     "output_type": "display_data"
    }
   ],
   "source": [
    "'''--------rysowanie wykresu Gantta-------'''\n",
    "import pandas as pd\n",
    "import chart_studio.plotly as py\n",
    "import plotly.figure_factory as ff\n",
    "import plotly.offline as offline\n",
    "import datetime\n",
    "\n",
    "# Klucze zadań\n",
    "j_keys = [j for j in range(num_job)]\n",
    "j_count = {key: 0 for key in j_keys}\n",
    "m_count = 0\n",
    "j_record = {}\n",
    "\n",
    "# Obliczanie czasu rozpoczęcia i zakończenia dla każdego zadania\n",
    "for i in sequence_best:\n",
    "    gen_t = int(p[i])\n",
    "    j_count[i] = j_count[i] + gen_t\n",
    "    m_count = m_count + gen_t\n",
    "\n",
    "    if m_count < j_count[i]:\n",
    "        m_count = j_count[i]\n",
    "    elif m_count > j_count[i]:\n",
    "        j_count[i] = m_count\n",
    "    start_time = str(datetime.timedelta(seconds=j_count[i] - p[i]))  # konwersja sekund na godziny, minuty i sekundy\n",
    "\n",
    "    end_time = str(datetime.timedelta(seconds=j_count[i]))\n",
    "    j_record[i] = [start_time, end_time]\n",
    "\n",
    "# Tworzenie danych dla wykresu Gantta\n",
    "df = []\n",
    "for j in j_keys:\n",
    "    df.append(dict(Task='Machine', Start='2018-07-14 %s' % (str(j_record[j][0])), Finish='2018-07-14 %s' % (str(j_record[j][1])), Resource='Job %s' % (j + 1)))\n",
    "\n",
    "# Kolory dla zadań (opcjonalne)\n",
    "# colors={}\n",
    "# for i in j_keys:\n",
    "#     colors['Job %s' % (i + 1)] = 'rgb(%s,%s,%s)' % (255 / (i + 1) + 0 * i, 5 + 12 * i, 50 + 10 * i)\n",
    "\n",
    "# Tworzenie wykresu Gantta\n",
    "fig = ff.create_gantt(df, colors=['#008B00', '#FF8C00', '#E3CF57', '#0000CD', '#7AC5CD', '#ED9121', '#76EE00', '#6495ED', '#008B8B', '#A9A9A9', '#A2CD5A', '#9A32CD', '#8FBC8F', '#EEC900', '#EEE685', '#CDC1C5', '#9AC0CD', '#EEA2AD', '#00FA9A', '#CDB38B'], index_col='Resource', show_colorbar=True, group_tasks=True, showgrid_x=True)\n",
    "\n",
    "# Wyświetlanie wykresu w trybie offline\n",
    "offline.iplot(fig, filename='GA_flow_shop_scheduling_tardyjob')\n"
   ]
  },
  {
   "cell_type": "code",
   "execution_count": 10,
   "metadata": {},
   "outputs": [
    {
     "name": "stdout",
     "output_type": "stream",
     "text": [
      "optymalna sekwencja [np.int32(1), np.int32(6), np.int32(0), np.int32(8), np.int32(4), np.int32(2), np.int32(3), np.int32(5), np.int32(7)]\n",
      "optymalna wartość:160.000000\n",
      "czas trwania:507.62012219429016\n"
     ]
    }
   ],
   "source": [
    "# -*- coding: utf-8 -*-\n",
    "'''==========Rozwiązanie problemu harmonogramowania przepływu za pomocą algorytmu genetycznego w Pythonie======='''\n",
    "# importowanie wymaganych modułów\n",
    "#import os\n",
    "import pandas as pd\n",
    "import numpy as np\n",
    "import time\n",
    "import copy\n",
    "\n",
    "''' ================= ustawienia inicjalizacji ======================'''\n",
    "#pt_tmp = pd.read_excel(\"20x5_flowshop.xlsx\", sheet_name=\"S1\", index_col=[0])\n",
    "pt_tmp = pd.read_excel(\"9x5_flowshop.xlsx\", sheet_name=\"S1\", index_col=[0])\n",
    "pt = pt_tmp.values.tolist()\n",
    "num_m = 5\n",
    "num_job = len(pt)\n",
    "# raw_input jest używane w Pythonie 2\n",
    "rozmiar_populacji = int(input('Podaj rozmiar populacji: ') or 30) # domyślna wartość to 30\n",
    "crossover_rate = float(input('Podaj współczynnik krzyżowania: ') or 0.8) # domyślna wartość to 0.8\n",
    "mutation_rate = float(input('Podaj współczynnik mutacji: ') or 0.2) # domyślna wartość to 0.2\n",
    "mutation_selection_rate = float(input('Podaj współczynnik selekcji mutacji: ') or 0.2)\n",
    "num_mutation_jobs = round(num_job * mutation_selection_rate)\n",
    "num_iteration = int(input('Podaj liczbę iteracji: ') or 2000) # domyślna wartość to 2000\n",
    "\n",
    "start_time = time.time()\n",
    "\n",
    "'''==================== główny kod ==============================='''\n",
    "'''----- generowanie początkowej populacji -----'''\n",
    "Tbest = 999999999999999\n",
    "best_list, best_obj = [], []\n",
    "population_list = []\n",
    "for i in range(rozmiar_populacji):\n",
    "    random_num = list(np.random.permutation(num_job)) # generowanie losowej permutacji od 0 do num_job-1\n",
    "    population_list.append(random_num) # dodawanie do listy populacji\n",
    "\n",
    "for n in range(num_iteration):\n",
    "    Tbest_now = 99999999999\n",
    "    '''-------- krzyżowanie --------'''\n",
    "    parent_list = copy.deepcopy(population_list)\n",
    "    offspring_list = copy.deepcopy(population_list)\n",
    "    S = list(np.random.permutation(rozmiar_populacji)) # generowanie losowej sekwencji do wyboru rodzica do krzyżowania\n",
    "\n",
    "    for m in range(int(rozmiar_populacji / 2)):\n",
    "        crossover_prob = np.random.rand()\n",
    "        if crossover_rate >= crossover_prob:\n",
    "            parent_1 = population_list[S[2 * m]][:]\n",
    "            parent_2 = population_list[S[2 * m + 1]][:]\n",
    "            child_1 = ['na' for i in range(num_job)]\n",
    "            child_2 = ['na' for i in range(num_job)]\n",
    "            fix_num = round(num_job / 2)\n",
    "            g_fix = list(np.random.choice(num_job, fix_num, replace=False))\n",
    "\n",
    "            for g in range(fix_num):\n",
    "                child_1[g_fix[g]] = parent_2[g_fix[g]]\n",
    "                child_2[g_fix[g]] = parent_1[g_fix[g]]\n",
    "            c1 = [parent_1[i] for i in range(num_job) if parent_1[i] not in child_1]\n",
    "            c2 = [parent_2[i] for i in range(num_job) if parent_2[i] not in child_2]\n",
    "\n",
    "            for i in range(num_job - fix_num):\n",
    "                child_1[child_1.index('na')] = c1[i]\n",
    "                child_2[child_2.index('na')] = c2[i]\n",
    "            offspring_list[S[2 * m]] = child_1[:]\n",
    "            offspring_list[S[2 * m + 1]] = child_2[:]\n",
    "\n",
    "    '''-------- mutacja --------'''\n",
    "    for m in range(len(offspring_list)):\n",
    "        mutation_prob = np.random.rand()\n",
    "        if mutation_rate >= mutation_prob:\n",
    "            m_chg = list(np.random.choice(num_job, num_mutation_jobs, replace=False)) # wybór pozycji do mutacji\n",
    "            t_value_last = offspring_list[m][m_chg[0]] # zapisanie wartości z pierwszej pozycji mutacji\n",
    "            for i in range(num_mutation_jobs - 1):\n",
    "                offspring_list[m][m_chg[i]] = offspring_list[m][m_chg[i + 1]] # przesunięcie\n",
    "\n",
    "            offspring_list[m][m_chg[num_mutation_jobs - 1]] = t_value_last # przeniesienie wartości z pierwszej pozycji mutacji na ostatnią pozycję mutacji\n",
    "\n",
    "    '''-------- wartość dopasowania (obliczanie czasu bezczynności) -------------'''\n",
    "\n",
    "    total_chromosome = copy.deepcopy(parent_list) + copy.deepcopy(offspring_list) # połączenie chromosomów rodziców i potomków\n",
    "    chrom_fitness, chrom_fit = [], []\n",
    "    total_fitness = 0\n",
    "    s, d, D = {}, {}, {}\n",
    "    v = [0 for c in range(rozmiar_populacji * 2)]\n",
    "\n",
    "    for c in range(rozmiar_populacji * 2):\n",
    "        for i in range(num_m):\n",
    "            s[c, i] = pt[total_chromosome[c][0]][i]\n",
    "            d[c, i] = v[c]\n",
    "            D[c, i, total_chromosome[c][0]] = v[c]\n",
    "            v[c] = v[c] + pt[total_chromosome[c][0]][i]\n",
    "\n",
    "        for j in range(num_job):\n",
    "            D[c, 0, j] = 0\n",
    "\n",
    "        for j in range(1, num_job):\n",
    "            for i in range(0, num_m - 1):\n",
    "                s[c, i] = s[c, i] + pt[total_chromosome[c][j]][i]\n",
    "                D[c, i + 1, j] = max(0, s[c, i] + d[c, i] - s[c, i + 1] - d[c, i + 1])\n",
    "                d[c, i + 1] = d[c, i + 1] + D[c, i + 1, j]\n",
    "\n",
    "            s[c, num_m - 1] = s[c, num_m - 1] + pt[total_chromosome[c][j]][i + 1]\n",
    "\n",
    "        v[c] = 0\n",
    "        for i in range(num_m):\n",
    "            v[c] = v[c] + d[c, i]\n",
    "\n",
    "        chrom_fitness.append(1 / v[c])\n",
    "        chrom_fit.append(v[c])\n",
    "        total_fitness = total_fitness + chrom_fitness[c]\n",
    "\n",
    "    '''---------- selekcja ----------'''\n",
    "    pk, qk = [], []\n",
    "\n",
    "    for i in range(rozmiar_populacji * 2):\n",
    "        pk.append(chrom_fitness[i] / total_fitness)\n",
    "    for i in range(rozmiar_populacji * 2):\n",
    "        cumulative = 0\n",
    "        for j in range(0, i + 1):\n",
    "            cumulative = cumulative + pk[j]\n",
    "        qk.append(cumulative)\n",
    "\n",
    "    selection_rand = [np.random.rand() for i in range(rozmiar_populacji)]\n",
    "\n",
    "    for i in range(rozmiar_populacji):\n",
    "        if selection_rand[i] <= qk[0]:\n",
    "            population_list[i] = copy.deepcopy(total_chromosome[0])\n",
    "        else:\n",
    "            for j in range(0, rozmiar_populacji * 2 - 1):\n",
    "                if selection_rand[i] > qk[j] and selection_rand[i] <= qk[j + 1]:\n",
    "                    population_list[i] = copy.deepcopy(total_chromosome[j + 1])\n",
    "                    break\n",
    "\n",
    "    '''---------- porównanie ----------'''\n",
    "    for i in range(rozmiar_populacji * 2):\n",
    "        if chrom_fit[i] < Tbest_now:\n",
    "            Tbest_now = chrom_fit[i]\n",
    "            sequence_now = copy.deepcopy(total_chromosome[i])\n",
    "\n",
    "    if Tbest_now <= Tbest:\n",
    "        Tbest = Tbest_now\n",
    "        sequence_best = copy.deepcopy(sequence_now)\n",
    "\n",
    "'''---------- wynik ----------'''\n",
    "print(\"optymalna sekwencja\", sequence_best)\n",
    "print(\"optymalna wartość:%f\" % Tbest)\n",
    "print('czas trwania:%s' % (time.time() - start_time))\n"
   ]
  },
  {
   "cell_type": "code",
   "execution_count": 11,
   "metadata": {},
   "outputs": [
    {
     "data": {
      "application/vnd.plotly.v1+json": {
       "config": {
        "plotlyServerURL": "https://plot.ly"
       },
       "data": [
        {
         "fill": "toself",
         "fillcolor": "rgb(128, 50, 70)",
         "hoverinfo": "name",
         "legendgroup": "rgb(128, 50, 70)",
         "mode": "none",
         "name": "1",
         "type": "scatter",
         "x": [
          "2018-07-14 0:00:00",
          "2018-07-14 0:00:12",
          "2018-07-14 0:00:12",
          "2018-07-14 0:00:00",
          "2018-07-14 0:00:00",
          "2018-07-14 0:00:12",
          "2018-07-14 0:00:26",
          "2018-07-14 0:00:26",
          "2018-07-14 0:00:12",
          "2018-07-14 0:00:12",
          "2018-07-14 0:00:26",
          "2018-07-14 0:00:42",
          "2018-07-14 0:00:42",
          "2018-07-14 0:00:26",
          "2018-07-14 0:00:26",
          "2018-07-14 0:00:42",
          "2018-07-14 0:01:05",
          "2018-07-14 0:01:05",
          "2018-07-14 0:00:42",
          "2018-07-14 0:00:42",
          "2018-07-14 0:01:05",
          "2018-07-14 0:01:23",
          "2018-07-14 0:01:23",
          "2018-07-14 0:01:05"
         ],
         "y": [
          3.8,
          3.8,
          4.2,
          4.2,
          null,
          2.8,
          2.8,
          3.2,
          3.2,
          null,
          1.8,
          1.8,
          2.2,
          2.2,
          null,
          0.8,
          0.8,
          1.2,
          1.2,
          null,
          -0.2,
          -0.2,
          0.2,
          0.2
         ]
        },
        {
         "fill": "toself",
         "fillcolor": "rgb(255, 25, 50)",
         "hoverinfo": "name",
         "legendgroup": "rgb(255, 25, 50)",
         "mode": "none",
         "name": "0",
         "type": "scatter",
         "x": [
          "2018-07-14 0:00:26",
          "2018-07-14 0:00:38",
          "2018-07-14 0:00:38",
          "2018-07-14 0:00:26",
          "2018-07-14 0:00:26",
          "2018-07-14 0:00:40",
          "2018-07-14 0:00:53",
          "2018-07-14 0:00:53",
          "2018-07-14 0:00:40",
          "2018-07-14 0:00:40",
          "2018-07-14 0:01:02",
          "2018-07-14 0:01:22",
          "2018-07-14 0:01:22",
          "2018-07-14 0:01:02",
          "2018-07-14 0:01:02",
          "2018-07-14 0:01:25",
          "2018-07-14 0:01:36",
          "2018-07-14 0:01:36",
          "2018-07-14 0:01:25",
          "2018-07-14 0:01:25",
          "2018-07-14 0:01:48",
          "2018-07-14 0:01:58",
          "2018-07-14 0:01:58",
          "2018-07-14 0:01:48"
         ],
         "y": [
          3.8,
          3.8,
          4.2,
          4.2,
          null,
          2.8,
          2.8,
          3.2,
          3.2,
          null,
          1.8,
          1.8,
          2.2,
          2.2,
          null,
          0.8,
          0.8,
          1.2,
          1.2,
          null,
          -0.2,
          -0.2,
          0.2,
          0.2
         ]
        },
        {
         "fill": "toself",
         "fillcolor": "rgb(28, 225, 210)",
         "hoverinfo": "name",
         "legendgroup": "rgb(28, 225, 210)",
         "mode": "none",
         "name": "8",
         "type": "scatter",
         "x": [
          "2018-07-14 0:00:38",
          "2018-07-14 0:00:48",
          "2018-07-14 0:00:48",
          "2018-07-14 0:00:38",
          "2018-07-14 0:00:38",
          "2018-07-14 0:00:53",
          "2018-07-14 0:01:17",
          "2018-07-14 0:01:17",
          "2018-07-14 0:00:53",
          "2018-07-14 0:00:53",
          "2018-07-14 0:01:22",
          "2018-07-14 0:01:41",
          "2018-07-14 0:01:41",
          "2018-07-14 0:01:22",
          "2018-07-14 0:01:22",
          "2018-07-14 0:01:41",
          "2018-07-14 0:01:54",
          "2018-07-14 0:01:54",
          "2018-07-14 0:01:41",
          "2018-07-14 0:01:41",
          "2018-07-14 0:01:58",
          "2018-07-14 0:02:16",
          "2018-07-14 0:02:16",
          "2018-07-14 0:01:58"
         ],
         "y": [
          3.8,
          3.8,
          4.2,
          4.2,
          null,
          2.8,
          2.8,
          3.2,
          3.2,
          null,
          1.8,
          1.8,
          2.2,
          2.2,
          null,
          0.8,
          0.8,
          1.2,
          1.2,
          null,
          -0.2,
          -0.2,
          0.2,
          0.2
         ]
        },
        {
         "fill": "toself",
         "fillcolor": "rgb(32, 200, 190)",
         "hoverinfo": "name",
         "legendgroup": "rgb(32, 200, 190)",
         "mode": "none",
         "name": "7",
         "type": "scatter",
         "x": [
          "2018-07-14 0:01:54",
          "2018-07-14 0:02:14",
          "2018-07-14 0:02:14",
          "2018-07-14 0:01:54",
          "2018-07-14 0:01:54",
          "2018-07-14 0:02:17",
          "2018-07-14 0:02:39",
          "2018-07-14 0:02:39",
          "2018-07-14 0:02:17",
          "2018-07-14 0:02:17",
          "2018-07-14 0:02:57",
          "2018-07-14 0:03:15",
          "2018-07-14 0:03:15",
          "2018-07-14 0:02:57",
          "2018-07-14 0:02:57",
          "2018-07-14 0:03:19",
          "2018-07-14 0:03:39",
          "2018-07-14 0:03:39",
          "2018-07-14 0:03:19",
          "2018-07-14 0:03:19",
          "2018-07-14 0:03:40",
          "2018-07-14 0:03:58",
          "2018-07-14 0:03:58",
          "2018-07-14 0:03:40"
         ],
         "y": [
          3.8,
          3.8,
          4.2,
          4.2,
          null,
          2.8,
          2.8,
          3.2,
          3.2,
          null,
          1.8,
          1.8,
          2.2,
          2.2,
          null,
          0.8,
          0.8,
          1.2,
          1.2,
          null,
          -0.2,
          -0.2,
          0.2,
          0.2
         ]
        },
        {
         "fill": "toself",
         "fillcolor": "rgb(36, 175, 170)",
         "hoverinfo": "name",
         "legendgroup": "rgb(36, 175, 170)",
         "mode": "none",
         "name": "6",
         "type": "scatter",
         "x": [
          "2018-07-14 0:00:12",
          "2018-07-14 0:00:26",
          "2018-07-14 0:00:26",
          "2018-07-14 0:00:12",
          "2018-07-14 0:00:12",
          "2018-07-14 0:00:26",
          "2018-07-14 0:00:40",
          "2018-07-14 0:00:40",
          "2018-07-14 0:00:26",
          "2018-07-14 0:00:26",
          "2018-07-14 0:00:42",
          "2018-07-14 0:01:02",
          "2018-07-14 0:01:02",
          "2018-07-14 0:00:42",
          "2018-07-14 0:00:42",
          "2018-07-14 0:01:05",
          "2018-07-14 0:01:25",
          "2018-07-14 0:01:25",
          "2018-07-14 0:01:05",
          "2018-07-14 0:01:05",
          "2018-07-14 0:01:25",
          "2018-07-14 0:01:48",
          "2018-07-14 0:01:48",
          "2018-07-14 0:01:25"
         ],
         "y": [
          3.8,
          3.8,
          4.2,
          4.2,
          null,
          2.8,
          2.8,
          3.2,
          3.2,
          null,
          1.8,
          1.8,
          2.2,
          2.2,
          null,
          0.8,
          0.8,
          1.2,
          1.2,
          null,
          -0.2,
          -0.2,
          0.2,
          0.2
         ]
        },
        {
         "fill": "toself",
         "fillcolor": "rgb(42, 150, 150)",
         "hoverinfo": "name",
         "legendgroup": "rgb(42, 150, 150)",
         "mode": "none",
         "name": "5",
         "type": "scatter",
         "x": [
          "2018-07-14 0:01:40",
          "2018-07-14 0:01:54",
          "2018-07-14 0:01:54",
          "2018-07-14 0:01:40",
          "2018-07-14 0:01:40",
          "2018-07-14 0:02:05",
          "2018-07-14 0:02:17",
          "2018-07-14 0:02:17",
          "2018-07-14 0:02:05",
          "2018-07-14 0:02:05",
          "2018-07-14 0:02:34",
          "2018-07-14 0:02:57",
          "2018-07-14 0:02:57",
          "2018-07-14 0:02:34",
          "2018-07-14 0:02:34",
          "2018-07-14 0:02:57",
          "2018-07-14 0:03:19",
          "2018-07-14 0:03:19",
          "2018-07-14 0:02:57",
          "2018-07-14 0:02:57",
          "2018-07-14 0:03:19",
          "2018-07-14 0:03:40",
          "2018-07-14 0:03:40",
          "2018-07-14 0:03:19"
         ],
         "y": [
          3.8,
          3.8,
          4.2,
          4.2,
          null,
          2.8,
          2.8,
          3.2,
          3.2,
          null,
          1.8,
          1.8,
          2.2,
          2.2,
          null,
          0.8,
          0.8,
          1.2,
          1.2,
          null,
          -0.2,
          -0.2,
          0.2,
          0.2
         ]
        },
        {
         "fill": "toself",
         "fillcolor": "rgb(51, 125, 130)",
         "hoverinfo": "name",
         "legendgroup": "rgb(51, 125, 130)",
         "mode": "none",
         "name": "4",
         "type": "scatter",
         "x": [
          "2018-07-14 0:00:48",
          "2018-07-14 0:01:09",
          "2018-07-14 0:01:09",
          "2018-07-14 0:00:48",
          "2018-07-14 0:00:48",
          "2018-07-14 0:01:17",
          "2018-07-14 0:01:37",
          "2018-07-14 0:01:37",
          "2018-07-14 0:01:17",
          "2018-07-14 0:01:17",
          "2018-07-14 0:01:41",
          "2018-07-14 0:01:56",
          "2018-07-14 0:01:56",
          "2018-07-14 0:01:41",
          "2018-07-14 0:01:41",
          "2018-07-14 0:01:56",
          "2018-07-14 0:02:20",
          "2018-07-14 0:02:20",
          "2018-07-14 0:01:56",
          "2018-07-14 0:01:56",
          "2018-07-14 0:02:20",
          "2018-07-14 0:02:44",
          "2018-07-14 0:02:44",
          "2018-07-14 0:02:20"
         ],
         "y": [
          3.8,
          3.8,
          4.2,
          4.2,
          null,
          2.8,
          2.8,
          3.2,
          3.2,
          null,
          1.8,
          1.8,
          2.2,
          2.2,
          null,
          0.8,
          0.8,
          1.2,
          1.2,
          null,
          -0.2,
          -0.2,
          0.2,
          0.2
         ]
        },
        {
         "fill": "toself",
         "fillcolor": "rgb(64, 100, 110)",
         "hoverinfo": "name",
         "legendgroup": "rgb(64, 100, 110)",
         "mode": "none",
         "name": "3",
         "type": "scatter",
         "x": [
          "2018-07-14 0:01:23",
          "2018-07-14 0:01:40",
          "2018-07-14 0:01:40",
          "2018-07-14 0:01:23",
          "2018-07-14 0:01:23",
          "2018-07-14 0:01:53",
          "2018-07-14 0:02:05",
          "2018-07-14 0:02:05",
          "2018-07-14 0:01:53",
          "2018-07-14 0:01:53",
          "2018-07-14 0:02:18",
          "2018-07-14 0:02:34",
          "2018-07-14 0:02:34",
          "2018-07-14 0:02:18",
          "2018-07-14 0:02:18",
          "2018-07-14 0:02:37",
          "2018-07-14 0:02:57",
          "2018-07-14 0:02:57",
          "2018-07-14 0:02:37",
          "2018-07-14 0:02:37",
          "2018-07-14 0:03:01",
          "2018-07-14 0:03:17",
          "2018-07-14 0:03:17",
          "2018-07-14 0:03:01"
         ],
         "y": [
          3.8,
          3.8,
          4.2,
          4.2,
          null,
          2.8,
          2.8,
          3.2,
          3.2,
          null,
          1.8,
          1.8,
          2.2,
          2.2,
          null,
          0.8,
          0.8,
          1.2,
          1.2,
          null,
          -0.2,
          -0.2,
          0.2,
          0.2
         ]
        },
        {
         "fill": "toself",
         "fillcolor": "rgb(85, 75, 90)",
         "hoverinfo": "name",
         "legendgroup": "rgb(85, 75, 90)",
         "mode": "none",
         "name": "2",
         "type": "scatter",
         "x": [
          "2018-07-14 0:01:09",
          "2018-07-14 0:01:23",
          "2018-07-14 0:01:23",
          "2018-07-14 0:01:09",
          "2018-07-14 0:01:09",
          "2018-07-14 0:01:37",
          "2018-07-14 0:01:53",
          "2018-07-14 0:01:53",
          "2018-07-14 0:01:37",
          "2018-07-14 0:01:37",
          "2018-07-14 0:01:56",
          "2018-07-14 0:02:18",
          "2018-07-14 0:02:18",
          "2018-07-14 0:01:56",
          "2018-07-14 0:01:56",
          "2018-07-14 0:02:20",
          "2018-07-14 0:02:37",
          "2018-07-14 0:02:37",
          "2018-07-14 0:02:20",
          "2018-07-14 0:02:20",
          "2018-07-14 0:02:44",
          "2018-07-14 0:03:01",
          "2018-07-14 0:03:01",
          "2018-07-14 0:02:44"
         ],
         "y": [
          3.8,
          3.8,
          4.2,
          4.2,
          null,
          2.8,
          2.8,
          3.2,
          3.2,
          null,
          1.8,
          1.8,
          2.2,
          2.2,
          null,
          0.8,
          0.8,
          1.2,
          1.2,
          null,
          -0.2,
          -0.2,
          0.2,
          0.2
         ]
        },
        {
         "legendgroup": "rgb(128, 50, 70)",
         "marker": {
          "color": "rgb(128, 50, 70)",
          "opacity": 0,
          "size": 1
         },
         "mode": "markers",
         "name": "",
         "showlegend": false,
         "text": [
          null,
          null,
          null,
          null,
          null,
          null,
          null,
          null,
          null,
          null
         ],
         "type": "scatter",
         "x": [
          "2018-07-14 0:00:00",
          "2018-07-14 0:00:12",
          "2018-07-14 0:00:12",
          "2018-07-14 0:00:26",
          "2018-07-14 0:00:26",
          "2018-07-14 0:00:42",
          "2018-07-14 0:00:42",
          "2018-07-14 0:01:05",
          "2018-07-14 0:01:05",
          "2018-07-14 0:01:23"
         ],
         "y": [
          4,
          4,
          3,
          3,
          2,
          2,
          1,
          1,
          0,
          0
         ]
        },
        {
         "legendgroup": "rgb(255, 25, 50)",
         "marker": {
          "color": "rgb(255, 25, 50)",
          "opacity": 0,
          "size": 1
         },
         "mode": "markers",
         "name": "",
         "showlegend": false,
         "text": [
          null,
          null,
          null,
          null,
          null,
          null,
          null,
          null,
          null,
          null
         ],
         "type": "scatter",
         "x": [
          "2018-07-14 0:00:26",
          "2018-07-14 0:00:38",
          "2018-07-14 0:00:40",
          "2018-07-14 0:00:53",
          "2018-07-14 0:01:02",
          "2018-07-14 0:01:22",
          "2018-07-14 0:01:25",
          "2018-07-14 0:01:36",
          "2018-07-14 0:01:48",
          "2018-07-14 0:01:58"
         ],
         "y": [
          4,
          4,
          3,
          3,
          2,
          2,
          1,
          1,
          0,
          0
         ]
        },
        {
         "legendgroup": "rgb(28, 225, 210)",
         "marker": {
          "color": "rgb(28, 225, 210)",
          "opacity": 0,
          "size": 1
         },
         "mode": "markers",
         "name": "",
         "showlegend": false,
         "text": [
          null,
          null,
          null,
          null,
          null,
          null,
          null,
          null,
          null,
          null
         ],
         "type": "scatter",
         "x": [
          "2018-07-14 0:00:38",
          "2018-07-14 0:00:48",
          "2018-07-14 0:00:53",
          "2018-07-14 0:01:17",
          "2018-07-14 0:01:22",
          "2018-07-14 0:01:41",
          "2018-07-14 0:01:41",
          "2018-07-14 0:01:54",
          "2018-07-14 0:01:58",
          "2018-07-14 0:02:16"
         ],
         "y": [
          4,
          4,
          3,
          3,
          2,
          2,
          1,
          1,
          0,
          0
         ]
        },
        {
         "legendgroup": "rgb(32, 200, 190)",
         "marker": {
          "color": "rgb(32, 200, 190)",
          "opacity": 0,
          "size": 1
         },
         "mode": "markers",
         "name": "",
         "showlegend": false,
         "text": [
          null,
          null,
          null,
          null,
          null,
          null,
          null,
          null,
          null,
          null
         ],
         "type": "scatter",
         "x": [
          "2018-07-14 0:01:54",
          "2018-07-14 0:02:14",
          "2018-07-14 0:02:17",
          "2018-07-14 0:02:39",
          "2018-07-14 0:02:57",
          "2018-07-14 0:03:15",
          "2018-07-14 0:03:19",
          "2018-07-14 0:03:39",
          "2018-07-14 0:03:40",
          "2018-07-14 0:03:58"
         ],
         "y": [
          4,
          4,
          3,
          3,
          2,
          2,
          1,
          1,
          0,
          0
         ]
        },
        {
         "legendgroup": "rgb(36, 175, 170)",
         "marker": {
          "color": "rgb(36, 175, 170)",
          "opacity": 0,
          "size": 1
         },
         "mode": "markers",
         "name": "",
         "showlegend": false,
         "text": [
          null,
          null,
          null,
          null,
          null,
          null,
          null,
          null,
          null,
          null
         ],
         "type": "scatter",
         "x": [
          "2018-07-14 0:00:12",
          "2018-07-14 0:00:26",
          "2018-07-14 0:00:26",
          "2018-07-14 0:00:40",
          "2018-07-14 0:00:42",
          "2018-07-14 0:01:02",
          "2018-07-14 0:01:05",
          "2018-07-14 0:01:25",
          "2018-07-14 0:01:25",
          "2018-07-14 0:01:48"
         ],
         "y": [
          4,
          4,
          3,
          3,
          2,
          2,
          1,
          1,
          0,
          0
         ]
        },
        {
         "legendgroup": "rgb(42, 150, 150)",
         "marker": {
          "color": "rgb(42, 150, 150)",
          "opacity": 0,
          "size": 1
         },
         "mode": "markers",
         "name": "",
         "showlegend": false,
         "text": [
          null,
          null,
          null,
          null,
          null,
          null,
          null,
          null,
          null,
          null
         ],
         "type": "scatter",
         "x": [
          "2018-07-14 0:01:40",
          "2018-07-14 0:01:54",
          "2018-07-14 0:02:05",
          "2018-07-14 0:02:17",
          "2018-07-14 0:02:34",
          "2018-07-14 0:02:57",
          "2018-07-14 0:02:57",
          "2018-07-14 0:03:19",
          "2018-07-14 0:03:19",
          "2018-07-14 0:03:40"
         ],
         "y": [
          4,
          4,
          3,
          3,
          2,
          2,
          1,
          1,
          0,
          0
         ]
        },
        {
         "legendgroup": "rgb(51, 125, 130)",
         "marker": {
          "color": "rgb(51, 125, 130)",
          "opacity": 0,
          "size": 1
         },
         "mode": "markers",
         "name": "",
         "showlegend": false,
         "text": [
          null,
          null,
          null,
          null,
          null,
          null,
          null,
          null,
          null,
          null
         ],
         "type": "scatter",
         "x": [
          "2018-07-14 0:00:48",
          "2018-07-14 0:01:09",
          "2018-07-14 0:01:17",
          "2018-07-14 0:01:37",
          "2018-07-14 0:01:41",
          "2018-07-14 0:01:56",
          "2018-07-14 0:01:56",
          "2018-07-14 0:02:20",
          "2018-07-14 0:02:20",
          "2018-07-14 0:02:44"
         ],
         "y": [
          4,
          4,
          3,
          3,
          2,
          2,
          1,
          1,
          0,
          0
         ]
        },
        {
         "legendgroup": "rgb(64, 100, 110)",
         "marker": {
          "color": "rgb(64, 100, 110)",
          "opacity": 0,
          "size": 1
         },
         "mode": "markers",
         "name": "",
         "showlegend": false,
         "text": [
          null,
          null,
          null,
          null,
          null,
          null,
          null,
          null,
          null,
          null
         ],
         "type": "scatter",
         "x": [
          "2018-07-14 0:01:23",
          "2018-07-14 0:01:40",
          "2018-07-14 0:01:53",
          "2018-07-14 0:02:05",
          "2018-07-14 0:02:18",
          "2018-07-14 0:02:34",
          "2018-07-14 0:02:37",
          "2018-07-14 0:02:57",
          "2018-07-14 0:03:01",
          "2018-07-14 0:03:17"
         ],
         "y": [
          4,
          4,
          3,
          3,
          2,
          2,
          1,
          1,
          0,
          0
         ]
        },
        {
         "legendgroup": "rgb(85, 75, 90)",
         "marker": {
          "color": "rgb(85, 75, 90)",
          "opacity": 0,
          "size": 1
         },
         "mode": "markers",
         "name": "",
         "showlegend": false,
         "text": [
          null,
          null,
          null,
          null,
          null,
          null,
          null,
          null,
          null,
          null
         ],
         "type": "scatter",
         "x": [
          "2018-07-14 0:01:09",
          "2018-07-14 0:01:23",
          "2018-07-14 0:01:37",
          "2018-07-14 0:01:53",
          "2018-07-14 0:01:56",
          "2018-07-14 0:02:18",
          "2018-07-14 0:02:20",
          "2018-07-14 0:02:37",
          "2018-07-14 0:02:44",
          "2018-07-14 0:03:01"
         ],
         "y": [
          4,
          4,
          3,
          3,
          2,
          2,
          1,
          1,
          0,
          0
         ]
        }
       ],
       "layout": {
        "height": 600,
        "hovermode": "closest",
        "showlegend": true,
        "template": {
         "data": {
          "bar": [
           {
            "error_x": {
             "color": "#2a3f5f"
            },
            "error_y": {
             "color": "#2a3f5f"
            },
            "marker": {
             "line": {
              "color": "#E5ECF6",
              "width": 0.5
             },
             "pattern": {
              "fillmode": "overlay",
              "size": 10,
              "solidity": 0.2
             }
            },
            "type": "bar"
           }
          ],
          "barpolar": [
           {
            "marker": {
             "line": {
              "color": "#E5ECF6",
              "width": 0.5
             },
             "pattern": {
              "fillmode": "overlay",
              "size": 10,
              "solidity": 0.2
             }
            },
            "type": "barpolar"
           }
          ],
          "carpet": [
           {
            "aaxis": {
             "endlinecolor": "#2a3f5f",
             "gridcolor": "white",
             "linecolor": "white",
             "minorgridcolor": "white",
             "startlinecolor": "#2a3f5f"
            },
            "baxis": {
             "endlinecolor": "#2a3f5f",
             "gridcolor": "white",
             "linecolor": "white",
             "minorgridcolor": "white",
             "startlinecolor": "#2a3f5f"
            },
            "type": "carpet"
           }
          ],
          "choropleth": [
           {
            "colorbar": {
             "outlinewidth": 0,
             "ticks": ""
            },
            "type": "choropleth"
           }
          ],
          "contour": [
           {
            "colorbar": {
             "outlinewidth": 0,
             "ticks": ""
            },
            "colorscale": [
             [
              0,
              "#0d0887"
             ],
             [
              0.1111111111111111,
              "#46039f"
             ],
             [
              0.2222222222222222,
              "#7201a8"
             ],
             [
              0.3333333333333333,
              "#9c179e"
             ],
             [
              0.4444444444444444,
              "#bd3786"
             ],
             [
              0.5555555555555556,
              "#d8576b"
             ],
             [
              0.6666666666666666,
              "#ed7953"
             ],
             [
              0.7777777777777778,
              "#fb9f3a"
             ],
             [
              0.8888888888888888,
              "#fdca26"
             ],
             [
              1,
              "#f0f921"
             ]
            ],
            "type": "contour"
           }
          ],
          "contourcarpet": [
           {
            "colorbar": {
             "outlinewidth": 0,
             "ticks": ""
            },
            "type": "contourcarpet"
           }
          ],
          "heatmap": [
           {
            "colorbar": {
             "outlinewidth": 0,
             "ticks": ""
            },
            "colorscale": [
             [
              0,
              "#0d0887"
             ],
             [
              0.1111111111111111,
              "#46039f"
             ],
             [
              0.2222222222222222,
              "#7201a8"
             ],
             [
              0.3333333333333333,
              "#9c179e"
             ],
             [
              0.4444444444444444,
              "#bd3786"
             ],
             [
              0.5555555555555556,
              "#d8576b"
             ],
             [
              0.6666666666666666,
              "#ed7953"
             ],
             [
              0.7777777777777778,
              "#fb9f3a"
             ],
             [
              0.8888888888888888,
              "#fdca26"
             ],
             [
              1,
              "#f0f921"
             ]
            ],
            "type": "heatmap"
           }
          ],
          "heatmapgl": [
           {
            "colorbar": {
             "outlinewidth": 0,
             "ticks": ""
            },
            "colorscale": [
             [
              0,
              "#0d0887"
             ],
             [
              0.1111111111111111,
              "#46039f"
             ],
             [
              0.2222222222222222,
              "#7201a8"
             ],
             [
              0.3333333333333333,
              "#9c179e"
             ],
             [
              0.4444444444444444,
              "#bd3786"
             ],
             [
              0.5555555555555556,
              "#d8576b"
             ],
             [
              0.6666666666666666,
              "#ed7953"
             ],
             [
              0.7777777777777778,
              "#fb9f3a"
             ],
             [
              0.8888888888888888,
              "#fdca26"
             ],
             [
              1,
              "#f0f921"
             ]
            ],
            "type": "heatmapgl"
           }
          ],
          "histogram": [
           {
            "marker": {
             "pattern": {
              "fillmode": "overlay",
              "size": 10,
              "solidity": 0.2
             }
            },
            "type": "histogram"
           }
          ],
          "histogram2d": [
           {
            "colorbar": {
             "outlinewidth": 0,
             "ticks": ""
            },
            "colorscale": [
             [
              0,
              "#0d0887"
             ],
             [
              0.1111111111111111,
              "#46039f"
             ],
             [
              0.2222222222222222,
              "#7201a8"
             ],
             [
              0.3333333333333333,
              "#9c179e"
             ],
             [
              0.4444444444444444,
              "#bd3786"
             ],
             [
              0.5555555555555556,
              "#d8576b"
             ],
             [
              0.6666666666666666,
              "#ed7953"
             ],
             [
              0.7777777777777778,
              "#fb9f3a"
             ],
             [
              0.8888888888888888,
              "#fdca26"
             ],
             [
              1,
              "#f0f921"
             ]
            ],
            "type": "histogram2d"
           }
          ],
          "histogram2dcontour": [
           {
            "colorbar": {
             "outlinewidth": 0,
             "ticks": ""
            },
            "colorscale": [
             [
              0,
              "#0d0887"
             ],
             [
              0.1111111111111111,
              "#46039f"
             ],
             [
              0.2222222222222222,
              "#7201a8"
             ],
             [
              0.3333333333333333,
              "#9c179e"
             ],
             [
              0.4444444444444444,
              "#bd3786"
             ],
             [
              0.5555555555555556,
              "#d8576b"
             ],
             [
              0.6666666666666666,
              "#ed7953"
             ],
             [
              0.7777777777777778,
              "#fb9f3a"
             ],
             [
              0.8888888888888888,
              "#fdca26"
             ],
             [
              1,
              "#f0f921"
             ]
            ],
            "type": "histogram2dcontour"
           }
          ],
          "mesh3d": [
           {
            "colorbar": {
             "outlinewidth": 0,
             "ticks": ""
            },
            "type": "mesh3d"
           }
          ],
          "parcoords": [
           {
            "line": {
             "colorbar": {
              "outlinewidth": 0,
              "ticks": ""
             }
            },
            "type": "parcoords"
           }
          ],
          "pie": [
           {
            "automargin": true,
            "type": "pie"
           }
          ],
          "scatter": [
           {
            "fillpattern": {
             "fillmode": "overlay",
             "size": 10,
             "solidity": 0.2
            },
            "type": "scatter"
           }
          ],
          "scatter3d": [
           {
            "line": {
             "colorbar": {
              "outlinewidth": 0,
              "ticks": ""
             }
            },
            "marker": {
             "colorbar": {
              "outlinewidth": 0,
              "ticks": ""
             }
            },
            "type": "scatter3d"
           }
          ],
          "scattercarpet": [
           {
            "marker": {
             "colorbar": {
              "outlinewidth": 0,
              "ticks": ""
             }
            },
            "type": "scattercarpet"
           }
          ],
          "scattergeo": [
           {
            "marker": {
             "colorbar": {
              "outlinewidth": 0,
              "ticks": ""
             }
            },
            "type": "scattergeo"
           }
          ],
          "scattergl": [
           {
            "marker": {
             "colorbar": {
              "outlinewidth": 0,
              "ticks": ""
             }
            },
            "type": "scattergl"
           }
          ],
          "scattermapbox": [
           {
            "marker": {
             "colorbar": {
              "outlinewidth": 0,
              "ticks": ""
             }
            },
            "type": "scattermapbox"
           }
          ],
          "scatterpolar": [
           {
            "marker": {
             "colorbar": {
              "outlinewidth": 0,
              "ticks": ""
             }
            },
            "type": "scatterpolar"
           }
          ],
          "scatterpolargl": [
           {
            "marker": {
             "colorbar": {
              "outlinewidth": 0,
              "ticks": ""
             }
            },
            "type": "scatterpolargl"
           }
          ],
          "scatterternary": [
           {
            "marker": {
             "colorbar": {
              "outlinewidth": 0,
              "ticks": ""
             }
            },
            "type": "scatterternary"
           }
          ],
          "surface": [
           {
            "colorbar": {
             "outlinewidth": 0,
             "ticks": ""
            },
            "colorscale": [
             [
              0,
              "#0d0887"
             ],
             [
              0.1111111111111111,
              "#46039f"
             ],
             [
              0.2222222222222222,
              "#7201a8"
             ],
             [
              0.3333333333333333,
              "#9c179e"
             ],
             [
              0.4444444444444444,
              "#bd3786"
             ],
             [
              0.5555555555555556,
              "#d8576b"
             ],
             [
              0.6666666666666666,
              "#ed7953"
             ],
             [
              0.7777777777777778,
              "#fb9f3a"
             ],
             [
              0.8888888888888888,
              "#fdca26"
             ],
             [
              1,
              "#f0f921"
             ]
            ],
            "type": "surface"
           }
          ],
          "table": [
           {
            "cells": {
             "fill": {
              "color": "#EBF0F8"
             },
             "line": {
              "color": "white"
             }
            },
            "header": {
             "fill": {
              "color": "#C8D4E3"
             },
             "line": {
              "color": "white"
             }
            },
            "type": "table"
           }
          ]
         },
         "layout": {
          "annotationdefaults": {
           "arrowcolor": "#2a3f5f",
           "arrowhead": 0,
           "arrowwidth": 1
          },
          "autotypenumbers": "strict",
          "coloraxis": {
           "colorbar": {
            "outlinewidth": 0,
            "ticks": ""
           }
          },
          "colorscale": {
           "diverging": [
            [
             0,
             "#8e0152"
            ],
            [
             0.1,
             "#c51b7d"
            ],
            [
             0.2,
             "#de77ae"
            ],
            [
             0.3,
             "#f1b6da"
            ],
            [
             0.4,
             "#fde0ef"
            ],
            [
             0.5,
             "#f7f7f7"
            ],
            [
             0.6,
             "#e6f5d0"
            ],
            [
             0.7,
             "#b8e186"
            ],
            [
             0.8,
             "#7fbc41"
            ],
            [
             0.9,
             "#4d9221"
            ],
            [
             1,
             "#276419"
            ]
           ],
           "sequential": [
            [
             0,
             "#0d0887"
            ],
            [
             0.1111111111111111,
             "#46039f"
            ],
            [
             0.2222222222222222,
             "#7201a8"
            ],
            [
             0.3333333333333333,
             "#9c179e"
            ],
            [
             0.4444444444444444,
             "#bd3786"
            ],
            [
             0.5555555555555556,
             "#d8576b"
            ],
            [
             0.6666666666666666,
             "#ed7953"
            ],
            [
             0.7777777777777778,
             "#fb9f3a"
            ],
            [
             0.8888888888888888,
             "#fdca26"
            ],
            [
             1,
             "#f0f921"
            ]
           ],
           "sequentialminus": [
            [
             0,
             "#0d0887"
            ],
            [
             0.1111111111111111,
             "#46039f"
            ],
            [
             0.2222222222222222,
             "#7201a8"
            ],
            [
             0.3333333333333333,
             "#9c179e"
            ],
            [
             0.4444444444444444,
             "#bd3786"
            ],
            [
             0.5555555555555556,
             "#d8576b"
            ],
            [
             0.6666666666666666,
             "#ed7953"
            ],
            [
             0.7777777777777778,
             "#fb9f3a"
            ],
            [
             0.8888888888888888,
             "#fdca26"
            ],
            [
             1,
             "#f0f921"
            ]
           ]
          },
          "colorway": [
           "#636efa",
           "#EF553B",
           "#00cc96",
           "#ab63fa",
           "#FFA15A",
           "#19d3f3",
           "#FF6692",
           "#B6E880",
           "#FF97FF",
           "#FECB52"
          ],
          "font": {
           "color": "#2a3f5f"
          },
          "geo": {
           "bgcolor": "white",
           "lakecolor": "white",
           "landcolor": "#E5ECF6",
           "showlakes": true,
           "showland": true,
           "subunitcolor": "white"
          },
          "hoverlabel": {
           "align": "left"
          },
          "hovermode": "closest",
          "mapbox": {
           "style": "light"
          },
          "paper_bgcolor": "white",
          "plot_bgcolor": "#E5ECF6",
          "polar": {
           "angularaxis": {
            "gridcolor": "white",
            "linecolor": "white",
            "ticks": ""
           },
           "bgcolor": "#E5ECF6",
           "radialaxis": {
            "gridcolor": "white",
            "linecolor": "white",
            "ticks": ""
           }
          },
          "scene": {
           "xaxis": {
            "backgroundcolor": "#E5ECF6",
            "gridcolor": "white",
            "gridwidth": 2,
            "linecolor": "white",
            "showbackground": true,
            "ticks": "",
            "zerolinecolor": "white"
           },
           "yaxis": {
            "backgroundcolor": "#E5ECF6",
            "gridcolor": "white",
            "gridwidth": 2,
            "linecolor": "white",
            "showbackground": true,
            "ticks": "",
            "zerolinecolor": "white"
           },
           "zaxis": {
            "backgroundcolor": "#E5ECF6",
            "gridcolor": "white",
            "gridwidth": 2,
            "linecolor": "white",
            "showbackground": true,
            "ticks": "",
            "zerolinecolor": "white"
           }
          },
          "shapedefaults": {
           "line": {
            "color": "#2a3f5f"
           }
          },
          "ternary": {
           "aaxis": {
            "gridcolor": "white",
            "linecolor": "white",
            "ticks": ""
           },
           "baxis": {
            "gridcolor": "white",
            "linecolor": "white",
            "ticks": ""
           },
           "bgcolor": "#E5ECF6",
           "caxis": {
            "gridcolor": "white",
            "linecolor": "white",
            "ticks": ""
           }
          },
          "title": {
           "x": 0.05
          },
          "xaxis": {
           "automargin": true,
           "gridcolor": "white",
           "linecolor": "white",
           "ticks": "",
           "title": {
            "standoff": 15
           },
           "zerolinecolor": "white",
           "zerolinewidth": 2
          },
          "yaxis": {
           "automargin": true,
           "gridcolor": "white",
           "linecolor": "white",
           "ticks": "",
           "title": {
            "standoff": 15
           },
           "zerolinecolor": "white",
           "zerolinewidth": 2
          }
         }
        },
        "title": {
         "text": "Gantt Chart"
        },
        "xaxis": {
         "rangeselector": {
          "buttons": [
           {
            "count": 7,
            "label": "1w",
            "step": "day",
            "stepmode": "backward"
           },
           {
            "count": 1,
            "label": "1m",
            "step": "month",
            "stepmode": "backward"
           },
           {
            "count": 6,
            "label": "6m",
            "step": "month",
            "stepmode": "backward"
           },
           {
            "count": 1,
            "label": "YTD",
            "step": "year",
            "stepmode": "todate"
           },
           {
            "count": 1,
            "label": "1y",
            "step": "year",
            "stepmode": "backward"
           },
           {
            "step": "all"
           }
          ]
         },
         "showgrid": true,
         "type": "date",
         "zeroline": false
        },
        "yaxis": {
         "autorange": false,
         "range": [
          -1,
          6
         ],
         "showgrid": false,
         "ticktext": [
          "Maszyna 5",
          "Maszyna 4",
          "Maszyna 3",
          "Maszyna 2",
          "Maszyna 1"
         ],
         "tickvals": [
          0,
          1,
          2,
          3,
          4
         ],
         "zeroline": false
        }
       }
      }
     },
     "metadata": {},
     "output_type": "display_data"
    }
   ],
   "source": [
    "'''--------wykres Gantta-------'''\n",
    "import pandas as pd\n",
    "import plotly.graph_objects as go\n",
    "import plotly.figure_factory as ff\n",
    "import datetime\n",
    "\n",
    "# Definiowanie kluczy dla maszyn i zadań\n",
    "m_keys = ['Maszyna %s' % (j + 1) for j in range(num_m)]\n",
    "j_keys = [j for j in range(num_job)]\n",
    "j_count = {key: 0 for key in j_keys}\n",
    "m_count = {key: 0 for key in m_keys}\n",
    "j_record = {}\n",
    "\n",
    "# Obliczanie czasów rozpoczęcia i zakończenia dla każdego zadania\n",
    "for i in sequence_best:\n",
    "    for j in range(num_m):\n",
    "        gen_t = int(pt[i][j])\n",
    "        j_count[i] += gen_t\n",
    "        m_count[m_keys[j]] += gen_t\n",
    "        \n",
    "        if m_count[m_keys[j]] < j_count[i]:\n",
    "            m_count[m_keys[j]] = j_count[i]\n",
    "        elif m_count[m_keys[j]] > j_count[i]:\n",
    "            j_count[i] = m_count[m_keys[j]]\n",
    "        \n",
    "        start_time = str(datetime.timedelta(seconds=j_count[i] - pt[i][j]))  # Konwersja sekund na godziny, minuty i sekundy\n",
    "        end_time = str(datetime.timedelta(seconds=j_count[i]))\n",
    "        j_record[(i, m_keys[j])] = [start_time, end_time]\n",
    "\n",
    "# Przygotowanie danych do wykresu\n",
    "df = []\n",
    "for m in m_keys:\n",
    "    for j in j_keys:\n",
    "        df.append(dict(Task=m, Start='2018-07-14 %s' % (str(j_record[(j, m)][0])), Finish='2018-07-14 %s' % (str(j_record[(j, m)][1])), Resource='%s' % (j)))\n",
    "\n",
    "# Przygotowanie kolorów dla zadań\n",
    "colors = {}\n",
    "for i in j_keys:\n",
    "    colors[str(i)] = 'rgb(%s,%s,%s)' % (255 / (i + 1) + 0 * i, 25 + 25 * i, 50 + 20 * i)\n",
    "\n",
    "# Tworzenie wykresu Gantta\n",
    "fig = ff.create_gantt(df, colors=colors, index_col='Resource', show_colorbar=True, group_tasks=True, showgrid_x=True)\n",
    "\n",
    "# Wyświetlanie wykresu\n",
    "fig.show()\n"
   ]
  }
 ],
 "metadata": {
  "kernelspec": {
   "display_name": ".venv",
   "language": "python",
   "name": "python3"
  },
  "language_info": {
   "codemirror_mode": {
    "name": "ipython",
    "version": 3
   },
   "file_extension": ".py",
   "mimetype": "text/x-python",
   "name": "python",
   "nbconvert_exporter": "python",
   "pygments_lexer": "ipython3",
   "version": "3.12.4"
  }
 },
 "nbformat": 4,
 "nbformat_minor": 2
}
